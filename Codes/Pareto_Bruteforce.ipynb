{
 "cells": [
  {
   "cell_type": "markdown",
   "id": "747e58db",
   "metadata": {},
   "source": [
    "# Loads packages"
   ]
  },
  {
   "cell_type": "code",
   "execution_count": 1,
   "id": "80d8907d",
   "metadata": {},
   "outputs": [],
   "source": [
    "import numpy as np\n",
    "import matplotlib.pyplot as plt\n",
    "from matplotlib import cm\n",
    "import torch\n",
    "import torch.optim as optim\n",
    "from scipy.spatial import ConvexHull\n",
    "from matplotlib.patches import Polygon\n",
    "import sys,os\n",
    "sys.path.append(os.path.realpath('./src/'))\n",
    "import pandas as pd\n",
    "from materialEncoder import MaterialEncoder\n",
    "import time\n",
    "import itertools"
   ]
  },
  {
   "cell_type": "markdown",
   "id": "ccb7b898",
   "metadata": {},
   "source": [
    "# Loads the database"
   ]
  },
  {
   "cell_type": "code",
   "execution_count": 2,
   "id": "60593859",
   "metadata": {},
   "outputs": [],
   "source": [
    "def preprocessData():\n",
    "  df = pd.read_excel('./data/MaterialDatabase_FULL.xlsx')# # \n",
    "  dataIdentifier = {'name': df[df.columns[0]], 'className':df[df.columns[1]], 'classID':df[df.columns[2]]} # name of the material and type\n",
    "  trainInfo = torch.tensor((df[df.columns[3:]].to_numpy())).float()\n",
    "\n",
    "  return dataIdentifier, trainInfo, df\n",
    "dataIdentifier, trainInfo, df = preprocessData()\n",
    "\n",
    "props = df.columns[3:].tolist()\n",
    "nmat, nprop = trainInfo.size()"
   ]
  },
  {
   "cell_type": "markdown",
   "id": "8abacbe1",
   "metadata": {},
   "source": [
    "# Loads the truss"
   ]
  },
  {
   "cell_type": "code",
   "execution_count": 3,
   "id": "152f0b88",
   "metadata": {},
   "outputs": [],
   "source": [
    "from examples import getExample\n",
    "from trussFE import TrussFE\n",
    "\n",
    "#Loads the example truss\n",
    "exampleName, nodeXY, connectivity, bc = getExample(4)\n",
    "#Changes the force\n",
    "bc['forces'] = {'nodes':np.array([2]), 'fx':1.E3*torch.tensor([0.]), 'fy':1.E2*torch.tensor([125.])}\n",
    "\n",
    "#Loads the truss in truss\n",
    "truss = TrussFE(nodeXY, connectivity, bc)"
   ]
  },
  {
   "cell_type": "markdown",
   "id": "42d76e8f",
   "metadata": {},
   "source": [
    "# Sets the constraints and objectives"
   ]
  },
  {
   "cell_type": "code",
   "execution_count": 4,
   "id": "85991eb5",
   "metadata": {},
   "outputs": [],
   "source": [
    "#Defines constraints and objectives\n",
    "constraints = {'massCons': {'isOn':False, 'maxMass':5}, \\\n",
    "               'costCons': {'isOn':False, 'maxCost':5},\\\n",
    "               'tensionCons': {'isOn':True, 'FOS':4.},\\\n",
    "               'complianceCons': {'isOn':False, 'maxJ':35},\\\n",
    "               'compressionCons': {'isOn':True, 'FOS':4.},\\\n",
    "               'co2Cons': {'isOn':False, 'maxco2':30},\\\n",
    "               'energyCons': {'isOn':False, 'maxenergy' : 1e10},\\\n",
    "               'waterCons': {'isOn':False, 'maxwater':4e3}}\n",
    "\n",
    "\n",
    "objectives = {'cost': {'isOn':True, 'desiredVolume':2e-6},\\\n",
    "              'mass': {'isOn':False, 'maxMass':20}, \\\n",
    "              'co2': {'isOn':True, 'maxCost':35},\\\n",
    "              'water': {'isOn':False, 'FOS':4.},\\\n",
    "              'energy': {'isOn':False, 'maxJ':35}}\n",
    "               \n",
    "# count the number of entries with 'isOn' set to True\n",
    "no = sum(1 for v in objectives.values() if v['isOn'])\n",
    "nc = sum(1 for v in constraints.values() if v['isOn'])\n",
    "\n",
    "# print an error message in red if there are 3 or more entries with 'isOn' set to True\n",
    "if no >= 3:\n",
    "    print('Error: Three or more entries have isOn=True')\n",
    "\n"
   ]
  },
  {
   "cell_type": "markdown",
   "id": "bfbb78a4",
   "metadata": {},
   "source": [
    "# Defines the problem"
   ]
  },
  {
   "cell_type": "code",
   "execution_count": 5,
   "id": "82f9e266",
   "metadata": {},
   "outputs": [],
   "source": [
    "from pymoo.algorithms.moo.nsga2 import NSGA2\n",
    "from pymoo.operators.crossover.sbx import SBX\n",
    "from pymoo.operators.mutation.pm import PM\n",
    "from pymoo.operators.sampling.rnd import FloatRandomSampling\n",
    "from pymoo.termination import get_termination\n",
    "from pymoo.termination.default import DefaultMultiObjectiveTermination\n",
    "from pymoo.optimize import minimize\n",
    "from pymoo.core.problem import ElementwiseProblem\n",
    "\n",
    "\n",
    "\n",
    "#Problem of minimizing mass with the tensile and compressio constraints. We have 2 variables of the latent space constrained\n",
    "#to the limits in the map and 6 areas with limits.\n",
    "class MyProblem_fix(ElementwiseProblem):\n",
    "\n",
    "    def __init__(self,truss, matprop, constraints, objectives, nc, no):\n",
    "        super().__init__(n_var=6,\n",
    "                         n_obj=no,\n",
    "                         n_ieq_constr=nc,\n",
    "                         xl=np.array([2e-6, 2e-6, 2e-6, 2e-6, 2e-6, 2e-6]),\n",
    "                         xu=np.array([2e-2, 2e-2, 2e-2, 2e-2, 2e-2, 2e-2]))\n",
    "\n",
    "        self.truss=truss\n",
    "        self.matprop=matprop\n",
    "        self.constraints=constraints\n",
    "        self.objectives=objectives\n",
    "\n",
    "    def _evaluate(self, x, out, *args, **kwargs):\n",
    "\n",
    "        x_tensor = torch.from_numpy(x)\n",
    "        area = x_tensor * torch.ones((connectivity.shape[0]))   \n",
    "        u, _, _, _, internalForce = truss.solveFE(E = torch.tensor([matprop[0]]).float(), A=area)\n",
    "        compliance = truss.computeCompliance(u)\n",
    "        volume = truss.getVolume(area)\n",
    "        mass = matprop[2]*volume\n",
    "        cost = mass*matprop[1]\n",
    "        co2 = mass*matprop[4]\n",
    "        energy = mass*matprop[5]        \n",
    "        water = mass*matprop[6] \n",
    "        \n",
    "        \n",
    "        con_values = []\n",
    "        \n",
    "        if(constraints['massCons']['isOn']):\n",
    "            constraints['massCons']['value'] = (mass/constraints['massCons']['maxMass']) - 1.\n",
    "            con_values.append(constraints['massCons']['value'])\n",
    "\n",
    "        if(constraints['costCons']['isOn']):\n",
    "            constraints['costCons']['value'] = (cost/constraints['costCons']['maxCost']) - 1.\n",
    "            con_values.append(constraints['costCons']['value'])\n",
    "\n",
    "        if(constraints['tensionCons']['isOn']):\n",
    "            tensileForce = 0.001+torch.relu(internalForce)\n",
    "            tensileStress = tensileForce/area\n",
    "            maxTensileStressExperienced = torch.pow(torch.sum(tensileStress**6), 1./6)*constraints['tensionCons']['FOS']\n",
    "            constraints['tensionCons']['value'] = (maxTensileStressExperienced/matprop[3]) - 1.\n",
    "            con_values.append(constraints['tensionCons']['value'])\n",
    "\n",
    "        if(constraints['complianceCons']['isOn']):\n",
    "            constraints['complianceCons']['value'] = (compliance/constraints['complianceCons']['maxJ']) - 1.\n",
    "            con_values.append(constraints['complianceCons']['value'])\n",
    "\n",
    "        if(constraints['compressionCons']['isOn']):\n",
    "            compressiveForce = 0.001+torch.relu(-internalForce)\n",
    "            k = 4. # used in geom factor... see buckling theory\n",
    "            geomFactor = k*(self.truss.barLength/(np.pi*area))**2\n",
    "            compressiveStress = compressiveForce*geomFactor\n",
    "            maxCompressiveStressExperienced = torch.pow(torch.sum(compressiveStress**6), 1./6)*constraints['compressionCons']['FOS']\n",
    "            constraints['compressionCons']['value'] = (maxCompressiveStressExperienced/matprop[0]) - 1.\n",
    "            con_values.append(constraints['compressionCons']['value'])\n",
    "\n",
    "        if(constraints['co2Cons']['isOn']):\n",
    "            constraints['co2Cons']['value'] = (co2/constraints['co2Cons']['maxco2']) - 1.\n",
    "            con_values.append(constraints['co2Cons']['value'])\n",
    "\n",
    "        if(constraints['energyCons']['isOn']):\n",
    "            constraints['energyCons']['value'] = (energy/constraints['maxenergy']['maxMass']) - 1.\n",
    "            con_values.append(constraints['energyCons']['value'])\n",
    "\n",
    "        if(constraints['waterCons']['isOn']):\n",
    "            constraints['waterCons']['value'] = (water/constraints['waterCons']['maxwater']) - 1.\n",
    "            con_values.append(constraints['waterCons']['value'])\n",
    "            \n",
    "        \n",
    "        \n",
    "        obj_values = []\n",
    "        \n",
    "        if(objectives['cost']['isOn']):\n",
    "            obj_values.append(cost)\n",
    "            \n",
    "        if(objectives['mass']['isOn']):\n",
    "            obj_values.append(mass)\n",
    "            \n",
    "        if(objectives['co2']['isOn']):\n",
    "            obj_values.append(co2)\n",
    "            \n",
    "        if(objectives['water']['isOn']):\n",
    "            obj_values.append(water)\n",
    "            \n",
    "        if(objectives['energy']['isOn']):\n",
    "            obj_values.append(energy)\n",
    "            \n",
    "            \n",
    "  \n",
    "\n",
    "        out[\"F\"] = np.array(obj_values)\n",
    "        out[\"G\"] = np.array(con_values)\n",
    "\n",
    "\n",
    "\n",
    "algorithm_fix = NSGA2(\n",
    "    pop_size=50,\n",
    "    n_offsprings=20,\n",
    "    sampling=FloatRandomSampling(),\n",
    "    crossover=SBX(prob=0.9, eta=15),\n",
    "    mutation=PM(eta=20),\n",
    "    eliminate_duplicates=True\n",
    ")\n",
    "\n",
    "\n",
    "termination_fix = DefaultMultiObjectiveTermination(\n",
    "    xtol=1e-7,\n",
    "    cvtol=1e-6,\n",
    "    ftol=0.001,\n",
    "    period=10,\n",
    "    n_max_gen=1000,\n",
    "    n_max_evals=50000\n",
    ")\n"
   ]
  },
  {
   "cell_type": "markdown",
   "id": "e1d5aa07",
   "metadata": {},
   "source": [
    "# Runs the solver"
   ]
  },
  {
   "cell_type": "code",
   "execution_count": 6,
   "id": "f1533362",
   "metadata": {},
   "outputs": [
    {
     "name": "stdout",
     "output_type": "stream",
     "text": [
      "0\n"
     ]
    },
    {
     "name": "stderr",
     "output_type": "stream",
     "text": [
      "C:\\Users\\luisy\\Desktop\\CO2-Topology-Optimization-main\\Codes\\src\\trussFE.py:74: UserWarning: Creating a tensor from a list of numpy.ndarrays is extremely slow. Please consider converting the list to a single numpy.ndarray with numpy.array() before converting to a tensor. (Triggered internally at C:\\cb\\pytorch_1000000000000\\work\\torch\\csrc\\utils\\tensor_new.cpp:233.)\n",
      "  Kasm = torch.sparse_coo_tensor(self.nodeIdx, sK,\\\n"
     ]
    },
    {
     "name": "stdout",
     "output_type": "stream",
     "text": [
      "1\n",
      "2\n",
      "3\n",
      "4\n",
      "5\n"
     ]
    }
   ],
   "source": [
    "N=nmat\n",
    "results = np.empty((N, 2))\n",
    "names = []\n",
    "types = []\n",
    "\n",
    "start = time.perf_counter()\n",
    "for i in range(N):\n",
    "\n",
    "    matlist=[i for i in range(N)]\n",
    "    matprop=trainInfo[i,:]\n",
    "    print(i)\n",
    "    res = minimize(MyProblem_fix(truss, matprop, constraints, objectives, nc, no),\n",
    "               algorithm_fix,\n",
    "               termination_fix,\n",
    "               seed=1,\n",
    "               save_history=False,\n",
    "               verbose=False)\n",
    "    results[i] = np.hstack(res.F)\n",
    "    matname = dataIdentifier['name'][i]\n",
    "    mattype = dataIdentifier['className'][i]\n",
    "    names.append(matname)\n",
    "    types.append(mattype)\n",
    "print('Solver time : {:.2F}'.format(time.perf_counter() - start))"
   ]
  },
  {
   "cell_type": "markdown",
   "id": "1b7420c5",
   "metadata": {},
   "source": [
    "# Plot results"
   ]
  },
  {
   "cell_type": "code",
   "execution_count": 7,
   "id": "11e9bd2a",
   "metadata": {},
   "outputs": [
    {
     "data": {
      "image/png": "[encoded data removed]",
      "text/plain": [
       "<Figure size 640x480 with 1 Axes>"
      ]
     },
     "metadata": {},
     "output_type": "display_data"
    }
   ],
   "source": [
    "mat_colors = {}\n",
    "for i, type in enumerate(types):\n",
    "    mat_colors[type] = plt.cm.get_cmap('jet')(i / len(types))\n",
    "    \n",
    "#print(mat_colors)    \n",
    "# Create scatter plot\n",
    "fig, ax = plt.subplots()\n",
    "for i in range(len(results)):\n",
    "    x = results[i][0]\n",
    "    y = results[i][1]\n",
    "    label = names[i]\n",
    "    color = mat_colors.get(types[i], (0.8, 0.8, 0.8))\n",
    "    ax.scatter(x, y, color=color, label=types[i])\n",
    "    ax.text(x + 0.1, y + 0.1, label)\n",
    "    \n",
    "# Add legend and axis labels\n",
    "handles, labels = ax.get_legend_handles_labels()\n",
    "unique_labels = list(set(labels))\n",
    "unique_handles = [handles[labels.index(label)] for label in unique_labels]\n",
    "ax.legend(unique_handles, unique_labels)\n",
    "\n",
    "\n",
    "# show plot\n",
    "plt.title(\"Objective Space\")\n",
    "\n",
    "entry_order = ['cost', 'mass', 'co2', 'water', 'energy']\n",
    "enabled_entries = []\n",
    "\n",
    "for entry in entry_order:\n",
    "    if objectives[entry]['isOn']:\n",
    "        enabled_entries.append(entry)\n",
    "\n",
    "\n",
    "ax.set_xlabel(enabled_entries[0])\n",
    "ax.set_ylabel(enabled_entries[1])\n",
    "plt.show()"
   ]
  },
  {
   "cell_type": "markdown",
   "id": "838d27b1",
   "metadata": {},
   "source": [
    "# Plot with zoom"
   ]
  },
  {
   "cell_type": "code",
   "execution_count": 10,
   "id": "b721734f",
   "metadata": {},
   "outputs": [
    {
     "data": {
      "image/png": "[encoded data removed]",
      "text/plain": [
       "<Figure size 640x480 with 1 Axes>"
      ]
     },
     "metadata": {},
     "output_type": "display_data"
    }
   ],
   "source": [
    "# If you want to zoom a part of the plot\n",
    "xinf=0\n",
    "xsup=200\n",
    "yinf=0\n",
    "ysup=100\n",
    "\n",
    "mat_colors = {}\n",
    "for i, type in enumerate(types):\n",
    "    mat_colors[type] = plt.cm.get_cmap('jet')(i / len(types))\n",
    "    \n",
    "#print(mat_colors)    \n",
    "# Create scatter plot\n",
    "fig, ax = plt.subplots()\n",
    "for i in range(len(results)):\n",
    "    x = results[i][0]\n",
    "    y = results[i][1]\n",
    "    label = names[i]\n",
    "    color = mat_colors.get(types[i], (0.8, 0.8, 0.8))\n",
    "    if (xinf<= x <= xsup) & (yinf <= y<= ysup):\n",
    "        ax.scatter(x, y, color=color, label=types[i])\n",
    "        ax.text(x + 0.1, y + 0.1, label)\n",
    "    \n",
    "# Add legend and axis labels\n",
    "handles, labels = ax.get_legend_handles_labels()\n",
    "unique_labels = list(set(labels))\n",
    "unique_handles = [handles[labels.index(label)] for label in unique_labels]\n",
    "ax.legend(unique_handles, unique_labels)\n",
    "\n",
    "\n",
    "# show plot\n",
    "plt.title(\"Objective Space\")\n",
    "\n",
    "entry_order = ['cost', 'mass', 'co2', 'water', 'energy']\n",
    "enabled_entries = []\n",
    "\n",
    "for entry in entry_order:\n",
    "    if objectives[entry]['isOn']:\n",
    "        enabled_entries.append(entry)\n",
    "\n",
    "\n",
    "ax.set_xlabel(enabled_entries[0])\n",
    "ax.set_ylabel(enabled_entries[1])\n",
    "plt.show()"
   ]
  },
  {
   "cell_type": "code",
   "execution_count": null,
   "id": "a10f70f2",
   "metadata": {},
   "outputs": [],
   "source": []
  }
 ],
 "metadata": {
  "kernelspec": {
   "display_name": "Python 3 (ipykernel)",
   "language": "python",
   "name": "python3"
  },
  "language_info": {
   "codemirror_mode": {
    "name": "ipython",
    "version": 3
   },
   "file_extension": ".py",
   "mimetype": "text/x-python",
   "name": "python",
   "nbconvert_exporter": "python",
   "pygments_lexer": "ipython3",
   "version": "3.9.13"
  }
 },
 "nbformat": 4,
 "nbformat_minor": 5
}
